{
 "cells": [
  {
   "cell_type": "markdown",
   "metadata": {
    "id": "Ci22BIP3oPbA",
    "jp-MarkdownHeadingCollapsed": true,
    "tags": []
   },
   "source": [
    "# Imports"
   ]
  },
  {
   "cell_type": "code",
   "execution_count": null,
   "metadata": {
    "colab": {
     "base_uri": "https://localhost:8080/",
     "height": 235
    },
    "id": "nqD8PcHsnaMG",
    "outputId": "9ca16b9f-dcd1-4c46-8de1-3ad4a069f9dc"
   },
   "outputs": [],
   "source": [
    "from transformers import DistilBertTokenizer, DistilBertModel\n",
    "\n",
    "import torch\n",
    "import torchtext \n",
    "from torchtext.datasets import IMDB\n",
    "\n",
    "import nltk\n",
    "from nltk.stem import WordNetLemmatizer\n",
    "from nltk.tokenize import word_tokenize\n",
    "from nltk.corpus import stopwords\n",
    "from nltk.tokenize import RegexpTokenizer\n",
    "\n",
    "import nlpaug\n",
    "import nlpaug.augmenter.char as nac\n",
    "import nlpaug.augmenter.word as naw\n",
    "import nlpaug.augmenter.sentence as nas\n",
    "import nlpaug.flow as nafc\n",
    "\n",
    "from nlpaug.util import Action\n",
    "from nlpaug.util.file.download import DownloadUtil\n",
    "\n",
    "import re\n",
    "import numpy as np\n",
    "import matplotlib.pyplot as plt\n",
    "from tqdm import tqdm, trange\n",
    "\n",
    "if False:\n",
    "  DownloadUtil.download_word2vec(dest_dir='.')\n",
    "  DownloadUtil.download_glove(model_name='glove.6B', dest_dir='.')\n",
    "\n",
    "  nltk.download('punkt')\n",
    "  nltk.download('wordnet')\n",
    "  nltk.download('omw-1.4')\n",
    "  nltk.download('averaged_perceptron_tagger')\n",
    "  nltk.download('stopwords')\n",
    "  download_switch = False"
   ]
  },
  {
   "cell_type": "markdown",
   "metadata": {
    "id": "75_O0-8UoUsS",
    "jp-MarkdownHeadingCollapsed": true,
    "tags": []
   },
   "source": [
    "# Model"
   ]
  },
  {
   "cell_type": "code",
   "execution_count": null,
   "metadata": {
    "id": "ResvUJLVazAG"
   },
   "outputs": [],
   "source": [
    "class PositionEncoding(torch.nn.Module):\n",
    "    def __init__(self, n):\n",
    "        super(PositionEncoding, self).__init__()\n",
    "        \n",
    "        self.E = np.zeros((2**(n-1), n), dtype=np.float32)\n",
    "        for i in range(n):\n",
    "            self.E[:, i] = self.periodic(np.arange(2**(n-1)), 2**i)\n",
    "        \n",
    "        self.E = torch.tensor(self.E).unsqueeze(0)\n",
    "        \n",
    "    def forward(self, X):\n",
    "        return torch.cat((self.E[:,0:X.shape[1],:].repeat(X.shape[0],1,1), X), dim=2)\n",
    "\n",
    "    def _apply(self, fn):\n",
    "        super(PositionEncoding, self)._apply(fn)\n",
    "        self.E = fn(self.E)\n",
    "        return self\n",
    "    \n",
    "    @staticmethod\n",
    "    def periodic(x, n):\n",
    "        return 2*np.abs(np.mod(x/n, 2) - 1) - 1\n",
    "\n",
    "\n",
    "class Encoder(torch.nn.Module):\n",
    "  def __init__(self):\n",
    "    super(Encoder, self).__init__()\n",
    "\n",
    "    self.model = DistilBertModel.from_pretrained(\"distilbert-base-uncased\")\n",
    "    self.model.embeddings = torch.nn.Identity()\n",
    "    self.expand = torch.nn.Sequential(\n",
    "        torch.nn.Linear(768, 1024*2),\n",
    "        torch.nn.ReLU(),\n",
    "        torch.nn.Linear(1024*2, 1024*2),\n",
    "        torch.nn.ReLU()\n",
    "    )\n",
    "    self.output_expect = torch.nn.Linear(1024*2, 1024*4)\n",
    "    self.output_logstd = torch.nn.Linear(1024*2, 1024*4)\n",
    "\n",
    "  def forward(self, X, M, keepdim=False, return_std=False):\n",
    "    \n",
    "    X = self.model(X, M).last_hidden_state\n",
    "    X = self.expand(X)\n",
    "    E = self.output_expect(X).mean(1, keepdim=keepdim)\n",
    "    if return_std:\n",
    "      S = self.logstd(X).exp().mean(1, keepdim=keepdim)\n",
    "      return E, S\n",
    "    else:\n",
    "      return E\n",
    "\n",
    "class Decoder(torch.nn.Module):\n",
    "  def __init__(self, max_log2len=8):\n",
    "    super(Decoder, self).__init__()\n",
    "\n",
    "    self.posenc = PositionEncoding(max_log2len)\n",
    "\n",
    "    self.input = torch.nn.Sequential(\n",
    "        torch.nn.Linear(1024*4 + max_log2len, 1024*1),\n",
    "        torch.nn.ReLU(),\n",
    "        torch.nn.Linear(1024*1, 768*1),\n",
    "        torch.nn.ReLU(),\n",
    "        torch.nn.Linear(768*1, 768),\n",
    "    )\n",
    "    \n",
    "    self.model = DistilBertModel.from_pretrained(\"distilbert-base-uncased\")\n",
    "    self.model.embeddings = torch.nn.Identity()\n",
    "    self.output = torch.nn.Linear(768, 768)\n",
    "\n",
    "  def forward(self, X, M):\n",
    "    X = self.posenc(X)\n",
    "    X = self.input(X)\n",
    "    X = self.output(X)\n",
    "    X  = self.model(X, M).last_hidden_state\n",
    "\n",
    "    return X\n",
    "\n",
    "class Autoencoder(torch.nn.Module):\n",
    "  def __init__(self,\n",
    "               # Pos. Enc. params\n",
    "               max_log2len=8, \n",
    "               # If use separate variance\n",
    "               variational=False):\n",
    "    \n",
    "    super(Autoencoder, self).__init__()\n",
    "    self.variational = variational\n",
    "    self.encoder = Encoder()\n",
    "    self.decoder = Decoder(max_log2len=max_log2len)\n",
    "    \n",
    "  def forward(self, input_ids, attention_mask):\n",
    "    X, M = input_ids, attention_mask \n",
    "    n = X.shape[1]\n",
    "    X = self.encoder(X, M, keepdim=True, return_std=self.variational)\n",
    "    if self.variational:\n",
    "      X = X[0] + X[1]*torch.randn_like(X[1])\n",
    "    X = X.repeat(1, n, 1)\n",
    "    X = self.decoder(X, M)\n",
    "    return X\n"
   ]
  },
  {
   "cell_type": "markdown",
   "metadata": {
    "id": "BR5tF_3-e0ZI",
    "jp-MarkdownHeadingCollapsed": true,
    "tags": []
   },
   "source": [
    "# Dataset"
   ]
  },
  {
   "cell_type": "code",
   "execution_count": null,
   "metadata": {
    "id": "lPdqydnbcKQs"
   },
   "outputs": [],
   "source": [
    "class AutoencodingDataset(torch.utils.data.Dataset):\n",
    "  def __init__(self, sentences, max_len=16*5):\n",
    "    super(AutoencodingDataset, self).__init__()\n",
    "\n",
    "    self.max_len = max_len\n",
    "\n",
    "    self.sentences = []\n",
    "    for s in tqdm(sentences):\n",
    "      i = 1\n",
    "      while len(s)//i > self.max_len:\n",
    "        i += 1\n",
    "      itl = len(s)//i\n",
    "      for j in range(i):\n",
    "        self.sentences.append(s[j*itl:(j+1)*itl])\n",
    "      \n",
    "    self.tokenizer = DistilBertTokenizer.from_pretrained(\"distilbert-base-uncased\")\n",
    "    self.embedding = DistilBertModel.from_pretrained(\"distilbert-base-uncased\").embeddings\n",
    "\n",
    "  def __len__(self):\n",
    "    return len(self.sentences)\n",
    "  \n",
    "  def __getitem__(self, idx):\n",
    "    return self.sentences[idx]\n",
    "\n",
    "  def prepare_batch(self, sentences):\n",
    "    X = self.tokenizer(sentences, return_tensors=\"pt\", padding=True)\n",
    "    X['input_ids'] = self.embedding(X['input_ids'])\n",
    "    return X"
   ]
  },
  {
   "cell_type": "code",
   "execution_count": null,
   "metadata": {
    "id": "FsN58E7ui91Z"
   },
   "outputs": [],
   "source": [
    "def test_dataset():\n",
    "  ds = AutoencodingDataset([\" cat Hello , my dog is cute\", \"the can sat on a lonely rock.\"], max_len=4*3)\n",
    "  assert len(ds) == 6\n",
    "  ds[0]\n",
    "  ds[1]\n",
    "  return True"
   ]
  },
  {
   "cell_type": "code",
   "execution_count": null,
   "metadata": {
    "id": "1sdp3UuflhR5"
   },
   "outputs": [],
   "source": [
    "def test_dataloader():\n",
    "  ds = AutoencodingDataset([\" cat Hello , my dog is cute\", \"the can sat on a lonely rock.\"])\n",
    "  dl = torch.utils.data.DataLoader(ds, batch_size=2, collate_fn=ds.prepare_batch)\n",
    "  for x in dl:\n",
    "    assert      'input_ids' in x\n",
    "    assert 'attention_mask' in x\n",
    "    assert x['input_ids'].shape[0] == 2\n",
    "    assert x['attention_mask'].shape[0] == 2\n",
    "    assert x['input_ids'].shape[1] == x['attention_mask'].shape[1]\n",
    "\n",
    "  return True"
   ]
  },
  {
   "cell_type": "code",
   "execution_count": null,
   "metadata": {
    "id": "_gKlmhaXk03g"
   },
   "outputs": [],
   "source": [
    "def IMDB_preparation(max_len=16*5):\n",
    "  print(\"Loading IMDB...\")\n",
    "  dr = list(IMDB(split=\"train\"))\n",
    "  print(\"Taking sentences...\")\n",
    "  sentences = [d[1] for d in tqdm(dr)]\n",
    "  print(\"Preparing dataset...\")\n",
    "  dp = AutoencodingDataset(sentences, max_len=max_len)\n",
    "  return dp"
   ]
  },
  {
   "cell_type": "markdown",
   "metadata": {
    "id": "ltymi3SnpI6h",
    "jp-MarkdownHeadingCollapsed": true,
    "tags": []
   },
   "source": [
    "# Training"
   ]
  },
  {
   "cell_type": "markdown",
   "metadata": {
    "id": "egWzar1cqgJc",
    "jp-MarkdownHeadingCollapsed": true,
    "tags": []
   },
   "source": [
    "## Dataset Preparation"
   ]
  },
  {
   "cell_type": "code",
   "execution_count": null,
   "metadata": {
    "colab": {
     "base_uri": "https://localhost:8080/"
    },
    "id": "yOJp00EKZi_j",
    "outputId": "c9e7ba4e-567d-46d6-915c-59c43867f07f"
   },
   "outputs": [],
   "source": [
    "ds = IMDB_preparation()"
   ]
  },
  {
   "cell_type": "code",
   "execution_count": null,
   "metadata": {
    "id": "mCWpolZRo6WN"
   },
   "outputs": [],
   "source": [
    "dl = torch.utils.data.DataLoader(ds, batch_size=4, collate_fn=ds.prepare_batch, shuffle=True)"
   ]
  },
  {
   "cell_type": "markdown",
   "metadata": {
    "id": "hdtnozB_qisH",
    "jp-MarkdownHeadingCollapsed": true,
    "tags": []
   },
   "source": [
    "## Model Preparation"
   ]
  },
  {
   "cell_type": "markdown",
   "metadata": {
    "id": "PrgNBH6N0T1K"
   },
   "source": [
    "Create model: "
   ]
  },
  {
   "cell_type": "code",
   "execution_count": null,
   "metadata": {
    "colab": {
     "base_uri": "https://localhost:8080/"
    },
    "id": "NQ5csMOxqkrB",
    "outputId": "1af3392c-c093-4906-9350-d2b95bf17966"
   },
   "outputs": [],
   "source": [
    "device = torch.device(\"cuda\")\n",
    "m = Autoencoder().to(device)\n",
    "Ls = []"
   ]
  },
  {
   "cell_type": "markdown",
   "metadata": {
    "id": "-cLFtLgnz-tA"
   },
   "source": [
    "Number of parameters:"
   ]
  },
  {
   "cell_type": "code",
   "execution_count": null,
   "metadata": {
    "colab": {
     "base_uri": "https://localhost:8080/"
    },
    "id": "NgL9HG3Ao9d-",
    "outputId": "78c076c6-b52b-4095-9818-a7771f4796c0"
   },
   "outputs": [],
   "source": [
    "sum(p.numel() for p in m.parameters())"
   ]
  },
  {
   "cell_type": "markdown",
   "metadata": {
    "id": "WEQLsNPXsrH8",
    "jp-MarkdownHeadingCollapsed": true,
    "tags": []
   },
   "source": [
    "## Training Loop"
   ]
  },
  {
   "cell_type": "code",
   "execution_count": null,
   "metadata": {
    "id": "m1WOYIm1yIzv"
   },
   "outputs": [],
   "source": [
    "opt = torch.optim.Adamax(m.parameters(), lr=0.0001, weight_decay=0.0000)"
   ]
  },
  {
   "cell_type": "code",
   "execution_count": null,
   "metadata": {
    "colab": {
     "base_uri": "https://localhost:8080/"
    },
    "id": "W851z1wxtm4W",
    "outputId": "c329407d-26a5-4475-e730-41dfa2d896c5"
   },
   "outputs": [],
   "source": [
    "EPOCHS = 1\n",
    "for e in range(EPOCHS):\n",
    "  print(f\"Epoch: {e}\")\n",
    "  pbar = tqdm(dl)\n",
    "  for xm in pbar:\n",
    "    opt.zero_grad()\n",
    "    X = xm['input_ids'].to(device)\n",
    "    M = xm['attention_mask'].to(device)\n",
    "\n",
    "    P = m(X, M)\n",
    "\n",
    "    L = (X - P).pow(2).mean()\n",
    "    L.backward()\n",
    "    opt.step()\n",
    "    \n",
    "    pbar.set_description(f\"L: {L.item()}\")\n",
    "    Ls.append(L.item())"
   ]
  },
  {
   "cell_type": "code",
   "execution_count": null,
   "metadata": {
    "colab": {
     "base_uri": "https://localhost:8080/",
     "height": 282
    },
    "id": "a5F91fdpzDf4",
    "outputId": "0c3b52ae-1191-476f-d704-92766eb24e3a"
   },
   "outputs": [],
   "source": [
    "plt.plot(np.log(Ls))"
   ]
  },
  {
   "cell_type": "code",
   "execution_count": null,
   "metadata": {
    "id": "Xlly1q9jVpaA"
   },
   "outputs": [],
   "source": []
  }
 ],
 "metadata": {
  "accelerator": "GPU",
  "colab": {
   "collapsed_sections": [
    "yLJIuSq6oAiS",
    "BR5tF_3-e0ZI",
    "4YlAqka-pYvj"
   ],
   "name": "DistilBert.ipynb",
   "provenance": []
  },
  "kernelspec": {
   "display_name": "Python 3 (ipykernel)",
   "language": "python",
   "name": "python3"
  },
  "language_info": {
   "codemirror_mode": {
    "name": "ipython",
    "version": 3
   },
   "file_extension": ".py",
   "mimetype": "text/x-python",
   "name": "python",
   "nbconvert_exporter": "python",
   "pygments_lexer": "ipython3",
   "version": "3.8.10"
  }
 },
 "nbformat": 4,
 "nbformat_minor": 4
}
