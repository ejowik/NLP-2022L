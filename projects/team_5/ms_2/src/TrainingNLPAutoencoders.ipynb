{
 "cells": [
  {
   "cell_type": "markdown",
   "metadata": {
    "jp-MarkdownHeadingCollapsed": true,
    "tags": []
   },
   "source": [
    "# Imports"
   ]
  },
  {
   "cell_type": "code",
   "execution_count": null,
   "metadata": {},
   "outputs": [],
   "source": [
    "# Math\n",
    "import torch\n",
    "import numpy as np\n",
    "\n",
    "# Flair Device\n",
    "import flair\n",
    "flair.device = torch.device('cpu')\n",
    "\n",
    "# Analysis\n",
    "import matplotlib.pyplot as plt\n",
    "from tqdm import tqdm, trange\n",
    "\n",
    "# Autoencoder and Dataset Preparation\n",
    "from data.imdb_preparation import IMDB_preparation\n",
    "from data.ag_news_preparation import AG_NEWS_preparation\n",
    "from autoencoders.autoencoder import Autoencoder\n",
    "\n",
    "# Downloading Packages\n",
    "import nltk\n",
    "nltk.download('punkt')\n",
    "nltk.download('wordnet')\n",
    "nltk.download('omw-1.4')\n",
    "nltk.download('averaged_perceptron_tagger')\n",
    "nltk.download('stopwords')"
   ]
  },
  {
   "cell_type": "markdown",
   "metadata": {
    "jp-MarkdownHeadingCollapsed": true,
    "tags": []
   },
   "source": [
    "# 1. Vanilla Autoencoder"
   ]
  },
  {
   "cell_type": "markdown",
   "metadata": {
    "jp-MarkdownHeadingCollapsed": true,
    "tags": []
   },
   "source": [
    "## 1.1 Loading Data"
   ]
  },
  {
   "cell_type": "code",
   "execution_count": null,
   "metadata": {},
   "outputs": [],
   "source": [
    "ds = AG_NEWS_preparation()\n",
    "dl = torch.utils.data.DataLoader(ds, batch_size=32, shuffle=True)"
   ]
  },
  {
   "cell_type": "markdown",
   "metadata": {
    "jp-MarkdownHeadingCollapsed": true,
    "tags": []
   },
   "source": [
    "## 1.2 Training loop"
   ]
  },
  {
   "cell_type": "code",
   "execution_count": null,
   "metadata": {},
   "outputs": [],
   "source": [
    "m = Autoencoder(100,100,100,4,3,variational=False, max_log2len=8)\n",
    "Ls = []\n",
    "device = 'cpu'\n",
    "m = m.to(device)"
   ]
  },
  {
   "cell_type": "code",
   "execution_count": null,
   "metadata": {},
   "outputs": [],
   "source": [
    "opt = torch.optim.Adamax(m.parameters(), lr=0.001, weight_decay=0.0001)"
   ]
  },
  {
   "cell_type": "code",
   "execution_count": null,
   "metadata": {},
   "outputs": [],
   "source": [
    "m = m.train()\n",
    "EPOCHS = 3\n",
    "for e in range(EPOCHS):\n",
    "    print(f\"Epoch: {e}\")\n",
    "    pbar = tqdm(dl)\n",
    "    for i, (x_in, x_out) in enumerate(pbar):\n",
    "        opt.zero_grad()\n",
    "        x_in = x_in.to(device)\n",
    "        x_out = x_out.to(device)\n",
    "        mx = m(x_in)\n",
    "        L = (mx - x_out).pow(2).sum((1,2)).mean()\n",
    "        L.backward()\n",
    "        opt.step()\n",
    "    \n",
    "        pbar.set_description(f\"L: {L.item()}\")\n",
    "        Ls.append(L.item())"
   ]
  },
  {
   "cell_type": "code",
   "execution_count": null,
   "metadata": {},
   "outputs": [],
   "source": [
    "plt.plot(np.log(Ls))"
   ]
  },
  {
   "cell_type": "markdown",
   "metadata": {
    "jp-MarkdownHeadingCollapsed": true,
    "tags": []
   },
   "source": [
    "# 2. VAE"
   ]
  },
  {
   "cell_type": "markdown",
   "metadata": {
    "tags": []
   },
   "source": [
    "## 2.1 Loading Data"
   ]
  },
  {
   "cell_type": "code",
   "execution_count": null,
   "metadata": {},
   "outputs": [],
   "source": [
    "ds = AG_NEWS_preparation()\n",
    "dl = torch.utils.data.DataLoader(ds, batch_size=32, shuffle=True)"
   ]
  },
  {
   "cell_type": "markdown",
   "metadata": {
    "tags": []
   },
   "source": [
    "## 2.2 Training loop"
   ]
  },
  {
   "cell_type": "code",
   "execution_count": null,
   "metadata": {},
   "outputs": [],
   "source": [
    "m = Autoencoder(100,100,100,4,3,variational=True,max_log2len=8)\n",
    "Ls = []\n",
    "Lsmse = []\n",
    "Lsvar = []\n",
    "\n",
    "device = 'cpu'\n",
    "m = m.to(device)"
   ]
  },
  {
   "cell_type": "code",
   "execution_count": null,
   "metadata": {},
   "outputs": [],
   "source": [
    "opt = torch.optim.Adamax(m.parameters(), lr=0.001, weight_decay=0.0001)"
   ]
  },
  {
   "cell_type": "code",
   "execution_count": null,
   "metadata": {},
   "outputs": [],
   "source": [
    "m = m.train()\n",
    "EPOCHS = 3\n",
    "beta = 0.1\n",
    "for e in range(EPOCHS):\n",
    "    print(f\"Epoch: {e}\")\n",
    "    pbar = tqdm(dl)\n",
    "    for i, (x_in, x_out) in enumerate(pbar):\n",
    "        opt.zero_grad()\n",
    "        x_in = x_in.to(device)\n",
    "        x_out = x_out.to(device)\n",
    "        mx, (mu, logvar) = m(x_in, return_Z=True)\n",
    "        Lmse = (mx - x_out).pow(2).sum((1,2)).mean()\n",
    "        Lvar = - 0.5 * (1 + logvar - mu.pow(2) - logvar.exp()).sum((1,2)).mean()\n",
    "        L = Lmse + beta*Lvar\n",
    "        L.backward()\n",
    "        opt.step()\n",
    "    \n",
    "        pbar.set_description(f\"L: {L.item()} Lmse: {Lmse.item()} Lvar: {Lvar.item()}\")\n",
    "        \n",
    "        Lsmse.append(Lmse.item())\n",
    "        Lsvar.append(Lvar.item())\n",
    "        Ls.append(L.item())"
   ]
  },
  {
   "cell_type": "code",
   "execution_count": null,
   "metadata": {},
   "outputs": [],
   "source": [
    "plt.plot(np.log(Ls), label=\"Ls\")\n",
    "plt.plot(np.log(Lsmse), label=\"MSE\")\n",
    "plt.plot(np.log(beta*np.array(Lsvar)), label=\"VAR\")\n",
    "plt.legend()"
   ]
  },
  {
   "cell_type": "markdown",
   "metadata": {
    "jp-MarkdownHeadingCollapsed": true,
    "tags": []
   },
   "source": [
    "# 3. Denoising Autoencoder"
   ]
  },
  {
   "cell_type": "markdown",
   "metadata": {
    "jp-MarkdownHeadingCollapsed": true,
    "tags": []
   },
   "source": [
    "## 3.1 Loading Data"
   ]
  },
  {
   "cell_type": "code",
   "execution_count": null,
   "metadata": {},
   "outputs": [],
   "source": [
    "ds = AG_NEWS_preparation(aug_params={})\n",
    "dl = torch.utils.data.DataLoader(ds, batch_size=32, shuffle=True)"
   ]
  },
  {
   "cell_type": "markdown",
   "metadata": {
    "jp-MarkdownHeadingCollapsed": true,
    "tags": []
   },
   "source": [
    "## 3.2 Training loop"
   ]
  },
  {
   "cell_type": "code",
   "execution_count": null,
   "metadata": {},
   "outputs": [],
   "source": [
    "m = Autoencoder(100,100,100,4,3,variational=False, max_log2len=8)\n",
    "Ls = []\n",
    "device = 'cpu'\n",
    "m = m.to(device)"
   ]
  },
  {
   "cell_type": "code",
   "execution_count": null,
   "metadata": {},
   "outputs": [],
   "source": [
    "opt = torch.optim.Adamax(m.parameters(), lr=0.001, weight_decay=0.0001)"
   ]
  },
  {
   "cell_type": "code",
   "execution_count": null,
   "metadata": {},
   "outputs": [],
   "source": [
    "m = m.train()\n",
    "EPOCHS = 3\n",
    "for e in range(EPOCHS):\n",
    "    print(f\"Epoch: {e}\")\n",
    "    pbar = tqdm(dl)\n",
    "    for i, (x_in, x_out) in enumerate(pbar):\n",
    "        opt.zero_grad()\n",
    "        x_in = x_in.to(device)\n",
    "        x_out = x_out.to(device)\n",
    "        mx = m(x_in)\n",
    "        L = (mx - x_out).pow(2).sum((1,2)).mean()\n",
    "        L.backward()\n",
    "        opt.step()\n",
    "    \n",
    "        pbar.set_description(f\"L: {L.item()}\")\n",
    "        Ls.append(L.item())"
   ]
  },
  {
   "cell_type": "code",
   "execution_count": null,
   "metadata": {},
   "outputs": [],
   "source": [
    "plt.plot(np.log(Ls))"
   ]
  },
  {
   "cell_type": "code",
   "execution_count": null,
   "metadata": {},
   "outputs": [],
   "source": []
  }
 ],
 "metadata": {
  "interpreter": {
   "hash": "916dbcbb3f70747c44a77c7bcd40155683ae19c65e1c03b4aa3499c5328201f1"
  },
  "kernelspec": {
   "display_name": "Python 3 (ipykernel)",
   "language": "python",
   "name": "python3"
  },
  "language_info": {
   "codemirror_mode": {
    "name": "ipython",
    "version": 3
   },
   "file_extension": ".py",
   "mimetype": "text/x-python",
   "name": "python",
   "nbconvert_exporter": "python",
   "pygments_lexer": "ipython3",
   "version": "3.8.10"
  }
 },
 "nbformat": 4,
 "nbformat_minor": 4
}
