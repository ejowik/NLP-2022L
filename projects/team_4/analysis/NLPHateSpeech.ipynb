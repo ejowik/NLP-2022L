{
  "cells": [
    {
      "cell_type": "code",
      "execution_count": null,
      "metadata": {
        "id": "fCyxOJ39ISAM"
      },
      "outputs": [],
      "source": [
        "import pandas as pd\n",
        "import matplotlib.pyplot as plt\n",
        "import numpy as np\n",
        "\n",
        "from spacy.lang.pl import Polish\n",
        "\n",
        "import string \n",
        "import re\n",
        "\n",
        "import seaborn as sns\n",
        "from collections import  Counter\n",
        "from matplotlib.pyplot import figure"
      ]
    },
    {
      "cell_type": "code",
      "execution_count": null,
      "metadata": {
        "id": "c7dSO1sBZHuN"
      },
      "outputs": [],
      "source": [
        "nlp = Polish()"
      ]
    },
    {
      "cell_type": "markdown",
      "metadata": {
        "id": "SjUYRaPkHzrx"
      },
      "source": [
        "### Data Loading"
      ]
    },
    {
      "cell_type": "code",
      "execution_count": null,
      "metadata": {
        "id": "U_2EbUNwHZyp"
      },
      "outputs": [],
      "source": [
        "!wget \"http://2019.poleval.pl/task6/task_6-2.zip\""
      ]
    },
    {
      "cell_type": "code",
      "execution_count": null,
      "metadata": {
        "id": "8i7SXLalHyfv"
      },
      "outputs": [],
      "source": [
        "!unzip \"/content/task_6-2.zip\" -d \"/content/data\""
      ]
    },
    {
      "cell_type": "code",
      "execution_count": null,
      "metadata": {
        "id": "H6IltEzwMOvN"
      },
      "outputs": [],
      "source": [
        "original_tags = pd.read_csv('/content/data/training_set_clean_only_tags.txt', header = None)\n",
        "with open('/content/data/training_set_clean_only_text.txt', 'r') as textFile:\n",
        "  lines = textFile.readlines()\n",
        "original_text = pd.DataFrame(lines)\n",
        "\n",
        "df = pd.concat([original_text,original_tags], axis=1)\n",
        "df.columns =['Text', 'Tag']"
      ]
    },
    {
      "cell_type": "code",
      "execution_count": null,
      "metadata": {
        "colab": {
          "base_uri": "https://localhost:8080/"
        },
        "id": "Q93Oco34OBeS",
        "outputId": "3684f796-d583-4d98-8c40-891a04e127e2"
      },
      "outputs": [
        {
          "name": "stdout",
          "output_type": "stream",
          "text": [
            "<class 'pandas.core.frame.DataFrame'>\n",
            "RangeIndex: 10041 entries, 0 to 10040\n",
            "Data columns (total 2 columns):\n",
            " #   Column  Non-Null Count  Dtype \n",
            "---  ------  --------------  ----- \n",
            " 0   Text    10041 non-null  object\n",
            " 1   Tag     10041 non-null  int64 \n",
            "dtypes: int64(1), object(1)\n",
            "memory usage: 157.0+ KB\n"
          ]
        }
      ],
      "source": [
        "df.info()"
      ]
    },
    {
      "cell_type": "markdown",
      "metadata": {
        "id": "Ag4YlfliTyNm"
      },
      "source": [
        "# Data Analysis"
      ]
    },
    {
      "cell_type": "markdown",
      "metadata": {
        "id": "5BlrzNYgVwIZ"
      },
      "source": [
        "## Classes distribution"
      ]
    },
    {
      "cell_type": "code",
      "execution_count": null,
      "metadata": {
        "colab": {
          "base_uri": "https://localhost:8080/"
        },
        "id": "rNr4MJcXPOJi",
        "outputId": "c1d09ec3-b932-4419-c92a-d0bdf7e9334c"
      },
      "outputs": [
        {
          "data": {
            "text/plain": [
              "0    9190\n",
              "2     598\n",
              "1     253\n",
              "Name: Tag, dtype: int64"
            ]
          },
          "execution_count": 32,
          "metadata": {},
          "output_type": "execute_result"
        }
      ],
      "source": [
        "df.Tag.value_counts()"
      ]
    },
    {
      "cell_type": "markdown",
      "metadata": {
        "id": "yPEdmpcGVzRU"
      },
      "source": [
        "## Words Count"
      ]
    },
    {
      "cell_type": "code",
      "execution_count": null,
      "metadata": {
        "colab": {
          "base_uri": "https://localhost:8080/",
          "height": 446
        },
        "id": "lsXRfADUS_yb",
        "outputId": "8ffc647b-d554-4f90-b068-7ea5d2e0a3ae"
      },
      "outputs": [
        {
          "data": {
            "text/plain": [
              "<matplotlib.axes._subplots.AxesSubplot at 0x7fe7e61437d0>"
            ]
          },
          "execution_count": 33,
          "metadata": {},
          "output_type": "execute_result"
        },
        {
          "data": {
            "image/png": "[encoded data removed]",
            "text/plain": [
              "<Figure size 640x480 with 4 Axes>"
            ]
          },
          "metadata": {},
          "output_type": "display_data"
        }
      ],
      "source": [
        "figure(figsize=(8, 6), dpi=80)\n",
        "plt.subplot(2,2,1)\n",
        "df['Text'].apply(lambda x: len(x.split())).plot.hist(by=['Tag'], title = \"All\")\n",
        "plt.subplot(2,2,2)\n",
        "df[df.Tag == 0]['Text'].apply(lambda x: len(x.split())).plot.hist(by=['Tag'], title = \"Non-harmful\")\n",
        "plt.subplot(2,2,3)\n",
        "df[df.Tag == 1]['Text'].apply(lambda x: len(x.split())).plot.hist(by=['Tag'], title = \"Cyberbullying\")\n",
        "plt.subplot(2,2,4)\n",
        "df[df.Tag == 2]['Text'].apply(lambda x: len(x.split())).plot.hist(by=['Tag'], title = \"Hate-speech\")\n",
        "plt.tight_layout()"
      ]
    },
    {
      "cell_type": "markdown",
      "metadata": {
        "id": "dsPBxQesV4PE"
      },
      "source": [
        "## Length of text"
      ]
    },
    {
      "cell_type": "code",
      "execution_count": null,
      "metadata": {
        "colab": {
          "base_uri": "https://localhost:8080/",
          "height": 446
        },
        "id": "3bYbYMOBVSF1",
        "outputId": "206e4a3c-8260-479c-9143-60efc336afba"
      },
      "outputs": [
        {
          "data": {
            "text/plain": [
              "<matplotlib.axes._subplots.AxesSubplot at 0x7fe7e62b42d0>"
            ]
          },
          "execution_count": 34,
          "metadata": {},
          "output_type": "execute_result"
        },
        {
          "data": {
            "image/png": "[encoded data removed]",
            "text/plain": [
              "<Figure size 640x480 with 4 Axes>"
            ]
          },
          "metadata": {},
          "output_type": "display_data"
        }
      ],
      "source": [
        "figure(figsize=(8, 6), dpi=80)\n",
        "plt.subplot(2,2,1)\n",
        "df['Text'].str.len().plot.hist(title = \"All\")\n",
        "plt.subplot(2,2,2)\n",
        "df[df.Tag == 0]['Text'].str.len().plot.hist(title = \"Non-harmful\")\n",
        "plt.subplot(2,2,3)\n",
        "df[df.Tag == 1]['Text'].str.len().plot.hist(title = \"Cyberbullying\")\n",
        "plt.subplot(2,2,4)\n",
        "df[df.Tag == 2]['Text'].str.len().plot.hist(title = \"Hate-speech\")\n",
        "plt.tight_layout()"
      ]
    },
    {
      "cell_type": "markdown",
      "metadata": {
        "id": "dHlEJHIHV8ha"
      },
      "source": [
        "## Average word length"
      ]
    },
    {
      "cell_type": "code",
      "execution_count": null,
      "metadata": {
        "colab": {
          "base_uri": "https://localhost:8080/",
          "height": 446
        },
        "id": "OTXAvwxdgdOE",
        "outputId": "95968f27-1bf4-46cc-8b48-b54a2d3af200"
      },
      "outputs": [
        {
          "data": {
            "text/plain": [
              "<matplotlib.axes._subplots.AxesSubplot at 0x7fe7e6c5ba90>"
            ]
          },
          "execution_count": 35,
          "metadata": {},
          "output_type": "execute_result"
        },
        {
          "data": {
            "image/png": "[encoded data removed]",
            "text/plain": [
              "<Figure size 640x480 with 4 Axes>"
            ]
          },
          "metadata": {},
          "output_type": "display_data"
        }
      ],
      "source": [
        "figure(figsize=(8, 6), dpi=80)\n",
        "plt.subplot(2,2,1)\n",
        "df['Text'].str.split().apply(lambda x : [len(i) for i in x]).map(lambda x: np.mean(x)).plot.hist(title = \"All\")\n",
        "plt.subplot(2,2,2)\n",
        "df[df.Tag == 0]['Text'].str.split().apply(lambda x : [len(i) for i in x]).map(lambda x: np.mean(x)).plot.hist(title = \"Non-harmful\")\n",
        "plt.subplot(2,2,3)\n",
        "df[df.Tag == 1]['Text'].str.split().apply(lambda x : [len(i) for i in x]).map(lambda x: np.mean(x)).plot.hist(title = \"Cyberbullying\")\n",
        "plt.subplot(2,2,4)\n",
        "df[df.Tag == 2]['Text'].str.split().apply(lambda x : [len(i) for i in x]).map(lambda x: np.mean(x)).plot.hist(title = \"Hate-speech\")\n",
        "plt.tight_layout()"
      ]
    },
    {
      "cell_type": "markdown",
      "metadata": {
        "id": "1P4b4aX3ZKVI"
      },
      "source": [
        "## Stop words"
      ]
    },
    {
      "cell_type": "code",
      "execution_count": null,
      "metadata": {
        "id": "OWVNrbpJZNAr"
      },
      "outputs": [],
      "source": [
        "stopwords_count = []\n",
        "\n",
        "for index, row in df.iterrows():\n",
        "  for tok in nlp(row['Text']):\n",
        "    if tok.is_stop:\n",
        "      stopwords_count.append(tok.lower_)"
      ]
    },
    {
      "cell_type": "code",
      "execution_count": null,
      "metadata": {
        "colab": {
          "base_uri": "https://localhost:8080/",
          "height": 500
        },
        "id": "17Re8TilaPC3",
        "outputId": "2dda37ed-a8a7-438b-feaf-67fd0a630b12"
      },
      "outputs": [
        {
          "data": {
            "text/plain": [
              "<matplotlib.axes._subplots.AxesSubplot at 0x7fe7ace1bd50>"
            ]
          },
          "execution_count": 37,
          "metadata": {},
          "output_type": "execute_result"
        },
        {
          "data": {
            "image/png": "[encoded data removed]",
            "text/plain": [
              "<Figure size 1080x576 with 1 Axes>"
            ]
          },
          "metadata": {},
          "output_type": "display_data"
        }
      ],
      "source": [
        "counter=Counter(stopwords_count)\n",
        "most=counter.most_common()\n",
        "\n",
        "x, y=[], []\n",
        "for word,count in most[:40]:\n",
        "  x.append(word)\n",
        "  y.append(count)\n",
        "\n",
        "plt.figure(figsize=(15,8))         \n",
        "sns.barplot(x=y,y=x)"
      ]
    },
    {
      "cell_type": "markdown",
      "metadata": {
        "id": "jBmHOneNbTp3"
      },
      "source": [
        "## Non stop words"
      ]
    },
    {
      "cell_type": "code",
      "execution_count": null,
      "metadata": {
        "id": "RO7o1yV7box6"
      },
      "outputs": [],
      "source": [
        "nonstopwords_count = []\n",
        "\n",
        "for index, row in df.iterrows():\n",
        "  text = ' '.join(row['Text'].split())\n",
        "  for tok in nlp(text):\n",
        "    if not tok.is_stop and tok.text != \"@anonymized_account\" and tok.text != \"RT\" and tok.text not in string.punctuation:\n",
        "      nonstopwords_count.append(tok.lower_)\n",
        "        "
      ]
    },
    {
      "cell_type": "code",
      "execution_count": null,
      "metadata": {
        "id": "jITYKpG0b0fb"
      },
      "outputs": [],
      "source": [
        "counter=Counter(nonstopwords_count)\n",
        "most=counter.most_common()\n",
        "\n",
        "x, y=[], []\n",
        "for word,count in most[:40]:\n",
        "  x.append(word)\n",
        "  y.append(count)\n",
        "\n",
        "plt.figure(figsize=(15,8))       \n",
        "sns.barplot(x=y,y=x)"
      ]
    },
    {
      "cell_type": "markdown",
      "metadata": {
        "id": "o66gnzF0g4c0"
      },
      "source": [
        "### For 1 and 2"
      ]
    },
    {
      "cell_type": "code",
      "execution_count": null,
      "metadata": {
        "id": "dq2PF1pmg6MV"
      },
      "outputs": [],
      "source": [
        "nonstopwords_count = []\n",
        "\n",
        "for index, row in df[df.Tag != 0].iterrows():\n",
        "  text = ' '.join(row['Text'].split())\n",
        "  for tok in nlp(text):\n",
        "    if not tok.is_stop and tok.text != \"@anonymized_account\" and tok.text != \"RT\" and tok.text not in string.punctuation:\n",
        "      nonstopwords_count.append(tok.lower_)"
      ]
    },
    {
      "cell_type": "code",
      "execution_count": null,
      "metadata": {
        "id": "h1rVQd9sg8c6"
      },
      "outputs": [],
      "source": [
        "counter=Counter(nonstopwords_count)\n",
        "most=counter.most_common()\n",
        "\n",
        "x, y=[], []\n",
        "for word,count in most[:40]:\n",
        "  x.append(word)\n",
        "  y.append(count)\n",
        "\n",
        "plt.figure(figsize=(15,8))       \n",
        "sns.barplot(x=y,y=x)"
      ]
    },
    {
      "cell_type": "markdown",
      "metadata": {
        "id": "HHLI0hk9Ttk6"
      },
      "source": [
        "# Data Preprocessing"
      ]
    },
    {
      "cell_type": "code",
      "execution_count": null,
      "metadata": {
        "id": "0c8f-ALExzEP"
      },
      "outputs": [],
      "source": [
        "RE_EMOJI = re.compile('[\\U00010000-\\U0010ffff]', flags=re.UNICODE)\n",
        "\n",
        "def preprocess_text(text):\n",
        "  # remove whitespaces\n",
        "  text = ' '.join(text.split())\n",
        "\n",
        "  # tokenize\n",
        "  doc = [tok for tok in nlp(text)]\n",
        "\n",
        "  # remove RT @...\n",
        "  if str(doc[0]) == \"RT\": \n",
        "    doc.pop(0)\n",
        "\n",
        "  while str(doc[0]) == \"@anonymized_account\":\n",
        "    doc.pop(0)\n",
        "  while str(doc[-1]) == \"@anonymized_account\":\n",
        "    doc.pop()\n",
        "\n",
        "  # remove punctuation\n",
        "  doc = [t for t in doc if t.text not in string.punctuation]\n",
        "  \n",
        "  # doc = [tok for tok in doc if not tok.is_stop]\n",
        "\n",
        "  doc = [tok.lower_ for tok in doc]\n",
        "  doc = [RE_EMOJI.sub(r'', str_text) for str_text in doc]\n",
        "\n",
        "  return doc"
      ]
    },
    {
      "cell_type": "code",
      "execution_count": null,
      "metadata": {
        "id": "WGABF44Azo6y"
      },
      "outputs": [],
      "source": [
        "preprocess_text(\"RT @anonymized_account @anonymized_account Siemka, to ja :) @anonymized_account\")"
      ]
    },
    {
      "cell_type": "code",
      "execution_count": null,
      "metadata": {
        "id": "DWp8L8Cw0J66"
      },
      "outputs": [],
      "source": [
        "df['Tokens'] = df['Text'].map(lambda x: preprocess_text(x))"
      ]
    },
    {
      "cell_type": "code",
      "execution_count": null,
      "metadata": {
        "id": "DV-Zt8IMwswH"
      },
      "outputs": [],
      "source": [
        "df[df[\"Tag\"] == 1].head()"
      ]
    },
    {
      "cell_type": "markdown",
      "metadata": {
        "id": "i4zmEDg13KXo"
      },
      "source": [
        "# Embedding"
      ]
    },
    {
      "cell_type": "code",
      "execution_count": null,
      "metadata": {
        "id": "nGEkTGsU3j6h"
      },
      "outputs": [],
      "source": [
        "!wget https://github.com/sdadas/polish-nlp-resources/releases/download/v1.0/word2vec.zip"
      ]
    },
    {
      "cell_type": "code",
      "execution_count": null,
      "metadata": {
        "colab": {
          "background_save": true,
          "base_uri": "https://localhost:8080/"
        },
        "id": "4nVX-RlI37VW",
        "outputId": "0d37cdae-ba4a-45f2-c046-46e81caa787b"
      },
      "outputs": [
        {
          "name": "stdout",
          "output_type": "stream",
          "text": [
            "Archive:  /content/word2vec.zip\n",
            "replace word2vec_100_3_polish.bin? [y]es, [n]o, [A]ll, [N]one, [r]ename: "
          ]
        }
      ],
      "source": [
        "!unzip /content/word2vec.zip"
      ]
    },
    {
      "cell_type": "code",
      "execution_count": null,
      "metadata": {
        "id": "Xt3JinfV3Oa0"
      },
      "outputs": [],
      "source": [
        "from gensim.models import KeyedVectors"
      ]
    },
    {
      "cell_type": "code",
      "execution_count": null,
      "metadata": {
        "id": "3sVU_qFD3SFN"
      },
      "outputs": [],
      "source": [
        "word2vec = KeyedVectors.load(\"/content/word2vec_100_3_polish.bin\")"
      ]
    },
    {
      "cell_type": "code",
      "execution_count": null,
      "metadata": {
        "id": "QCABNkTf304E"
      },
      "outputs": [],
      "source": [
        "print(word2vec.most_similar(positive=['romantyk', 'kasyno']))"
      ]
    }
  ],
  "metadata": {
    "colab": {
      "collapsed_sections": [],
      "name": "NLPHateSpeech.ipynb",
      "provenance": []
    },
    "kernelspec": {
      "display_name": "Python 3",
      "name": "python3"
    },
    "language_info": {
      "name": "python"
    }
  },
  "nbformat": 4,
  "nbformat_minor": 0
}
