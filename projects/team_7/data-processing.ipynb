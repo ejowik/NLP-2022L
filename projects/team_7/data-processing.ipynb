{
 "cells": [
  {
   "cell_type": "markdown",
   "metadata": {},
   "source": [
    "# Import packages"
   ]
  },
  {
   "cell_type": "code",
   "execution_count": 1,
   "metadata": {},
   "outputs": [],
   "source": [
    "from pathlib import Path\n",
    "import zipfile\n",
    "\n",
    "from string import ascii_letters\n",
    "from random import sample\n",
    "from langdetect import detect\n",
    "\n",
    "import pandas as pd"
   ]
  },
  {
   "cell_type": "markdown",
   "metadata": {},
   "source": [
    "# Load data"
   ]
  },
  {
   "cell_type": "code",
   "execution_count": null,
   "metadata": {},
   "outputs": [],
   "source": [
    "! kaggle datasets download -d michaelarman/poemsdataset\n",
    "! unzip -q poemsdataset.zip\n",
    "! mv poemsdataset data"
   ]
  },
  {
   "cell_type": "code",
   "execution_count": 2,
   "metadata": {},
   "outputs": [],
   "source": [
    "def list_poems_filenames(location):\n",
    "    filenames = []\n",
    "    for poems_main_category in location.glob('*'):\n",
    "        for poems_category in poems_main_category.glob('*'):\n",
    "            for poem_filename in poems_category.glob('*'):\n",
    "                filenames.append(poem_filename)\n",
    "    return filenames"
   ]
  },
  {
   "cell_type": "code",
   "execution_count": 3,
   "metadata": {},
   "outputs": [],
   "source": [
    "def get_full_texts(location):\n",
    "    filenames = list_poems_filenames(location)\n",
    "    poems = []\n",
    "    for filename in filenames:\n",
    "        with filename.open(encoding=\"utf-8\") as f:\n",
    "            lines = f.readlines()\n",
    "        poems.append(lines)\n",
    "    return poems"
   ]
  },
  {
   "cell_type": "code",
   "execution_count": 4,
   "metadata": {},
   "outputs": [],
   "source": [
    "data_location = Path.cwd().joinpath(\"data\")"
   ]
  },
  {
   "cell_type": "code",
   "execution_count": 5,
   "metadata": {},
   "outputs": [
    {
     "data": {
      "text/plain": [
       "[WindowsPath('C:/Users/koste/Studia/10/NLP/Poem-Generation/data/forms/pantoum/PantoumPoemsPantoumPoembycynthiaRouten.txt'),\n",
       " WindowsPath('C:/Users/koste/Studia/10/NLP/Poem-Generation/data/forms/sonnet/SonnetPoemsHolySonnetIThouHastMadeMePoembyJohnDonne.txt'),\n",
       " WindowsPath('C:/Users/koste/Studia/10/NLP/Poem-Generation/data/topics/sympathy/SympathyPoemsSympathyForSurvivorsOfAPakistaniMassMurderOfChildrenPoembyBillGrace.txt'),\n",
       " WindowsPath('C:/Users/koste/Studia/10/NLP/Poem-Generation/data/topics/faith/FaithPoemsLostFaithPoembySathyaNarayana.txt'),\n",
       " WindowsPath('C:/Users/koste/Studia/10/NLP/Poem-Generation/data/topics/culture/CulturePoemsRacismAndTheCultureOfRacismRev2013PoembyTradeMartin.txt'),\n",
       " WindowsPath('C:/Users/koste/Studia/10/NLP/Poem-Generation/data/forms/quatrain/QuatrainPoemsLoveInQuatrainVersePoembyMuzahidulReza.txt'),\n",
       " WindowsPath('C:/Users/koste/Studia/10/NLP/Poem-Generation/data/topics/romance/RomancePoemsNoRomanceSoldUntoPoembyEmilyDickinson.txt'),\n",
       " WindowsPath('C:/Users/koste/Studia/10/NLP/Poem-Generation/data/topics/loss/LossPoemsMemoryLossPoembyRayLucero.txt')]"
      ]
     },
     "execution_count": 5,
     "metadata": {},
     "output_type": "execute_result"
    }
   ],
   "source": [
    "sample(list_poems_filenames(data_location), 8)"
   ]
  },
  {
   "cell_type": "code",
   "execution_count": 6,
   "metadata": {},
   "outputs": [
    {
     "data": {
      "text/plain": [
       "20657"
      ]
     },
     "execution_count": 6,
     "metadata": {},
     "output_type": "execute_result"
    }
   ],
   "source": [
    "len(list_poems_filenames(data_location))"
   ]
  },
  {
   "cell_type": "code",
   "execution_count": 7,
   "metadata": {},
   "outputs": [],
   "source": [
    "all_poems = get_full_texts(data_location)"
   ]
  },
  {
   "cell_type": "code",
   "execution_count": 8,
   "metadata": {},
   "outputs": [
    {
     "data": {
      "text/plain": [
       "[['844\\n',\n",
       "  'Spring is the Period\\n',\n",
       "  'Express from God.\\n',\n",
       "  'Among the other seasons\\n',\n",
       "  'Himself abide,\\n',\n",
       "  'But during March and April\\n',\n",
       "  'None stir abroad\\n',\n",
       "  'Without a cordial interview\\n',\n",
       "  'With God.'],\n",
       " [\"Here in the flamin' thick of thick of things,\\n\",\n",
       "  \"With Death across the way, 'n' traps\\n\",\n",
       "  'What little Fritz the German flings\\n',\n",
       "  \"Explodin' in yer lunch pe'aps,\\n\",\n",
       "  \"It ain't all glory for a bloke',\\n\",\n",
       "  \"It ain't all corfee 'ot and stoo,\\n\",\n",
       "  \"Nor wavin' banners in the smoke,\\n\",\n",
       "  \"Or practisin' the bay'net stroke—\\n\",\n",
       "  'We has our little troubles, too!\\n',\n",
       "  \"Here's Trigger Ribb bin seein' red\\n\",\n",
       "  \"'N' raisin' Cain because he had,\\n\",\n",
       "  \"Back in the caverns iv his 'ead,\\n\",\n",
       "  \"A 'oller tooth run ravin' mad.\\n\",\n",
       "  \"Pore Trigger up 'n' down the trench\\n\",\n",
       "  \"Was jiggin' like a blithered loan,\\n\",\n",
       "  \"'N' every time she give a wrench\\n\",\n",
       "  'You orter seen the beggar blench,\\n',\n",
       "  \"You orter 'eard him play a toon.\\n\",\n",
       "  \"The sullen shells was pawin' blind,\\n\",\n",
       "  \"A-feelin' for us grim as sin,\\n\",\n",
       "  \"While now 'n' then we'd likely find\\n\",\n",
       "  \"A dizzy bomb come limpin' in.\\n\",\n",
       "  \"But Trigger simply let 'er sizz.\\n\",\n",
       "  \"He 'ardly begged to be excused.\\n\",\n",
       "  'This was no damn concern of his.\\n',\n",
       "  'He twined a muffler round his phiz,\\n',\n",
       "  \"'N' fearful was the words he used.\\n\",\n",
       "  \"Lest we be getting' cock-a-whoop\\n\",\n",
       "  \"Ole 'Ans tries out his box of tricks.\\n\",\n",
       "  'His bullets all around the coop\\n',\n",
       "  \"Is peckin' like a million chicks.\\n\",\n",
       "  'But Trigger when they barks his snout\\n',\n",
       "  \"Don't sniff at it. He won't confess\\n\",\n",
       "  \"They're on the earth—ignores the clout,\\n\",\n",
       "  \"'N' makes the same old sung about\\n\",\n",
       "  \"His brimmin' mug of bitterness.\\n\",\n",
       "  'They raided us there in the mud\\n',\n",
       "  'One day afore the dead sun rose.\\n',\n",
       "  'Me oath, the mess of stuff and blood\\n',\n",
       "  'Would give a slaughterman the joes!\\n',\n",
       "  'And when the scrap is past and done,\\n',\n",
       "  \"Where's Trigger Ribb? The noble youth\\n\",\n",
       "  \"Has got his bay'net in a Hun,\\n\",\n",
       "  'While down his cheeks the salt tears run.\\n',\n",
       "  \"Sez he to me “Gorbli'—this tooth!”\\n\",\n",
       "  'A shell hoist Trigger in a tree.\\n',\n",
       "  \"We found him motherin' his jor.\\n\",\n",
       "  \"“If this ache's goin' on,” sez he,\\n\",\n",
       "  \"“So 'elp me, it'll spoil the war!”\\n\",\n",
       "  'Five collared Trigger on his perch,\\n',\n",
       "  'They wired his molar to a bough,\\n',\n",
       "  'Then give the anguished one a lurch,\\n',\n",
       "  \"'N' down he pitches. From that birch\\n\",\n",
       "  \"His riddled tooth is hangin' now.\\n\",\n",
       "  \"This afternoon it's merry 'ell;\\n\",\n",
       "  \"Grenades is comin' by the peck;\\n\",\n",
       "  \"A big gun times us true 'n well,\\n\",\n",
       "  'And, oh! we gets it in the neck.\\n',\n",
       "  'They lick out flames hat reach a mile,\\n',\n",
       "  'The drip of lead will never cease.\\n',\n",
       "  \"But Trigger's pottin' all the while;\\n\",\n",
       "  \"He sports a fond 'n' foolish smile-\\n\",\n",
       "  '“Thank Gord,” he sez, “a bit of peace!”']]"
      ]
     },
     "execution_count": 8,
     "metadata": {},
     "output_type": "execute_result"
    }
   ],
   "source": [
    "sample(all_poems, 2)"
   ]
  },
  {
   "cell_type": "code",
   "execution_count": 9,
   "metadata": {},
   "outputs": [
    {
     "data": {
      "text/plain": [
       "20657"
      ]
     },
     "execution_count": 9,
     "metadata": {},
     "output_type": "execute_result"
    }
   ],
   "source": [
    "len(all_poems)"
   ]
  },
  {
   "cell_type": "markdown",
   "metadata": {},
   "source": [
    "# Remove non-english poems"
   ]
  },
  {
   "cell_type": "code",
   "execution_count": 10,
   "metadata": {},
   "outputs": [],
   "source": [
    "def remove_non_english(poems):\n",
    "    english_poems = []\n",
    "    for poem in poems:\n",
    "        poem_string = \" \".join(poem)\n",
    "        try:\n",
    "            language = detect(poem_string)\n",
    "        except:\n",
    "            language = \"error\"\n",
    "            print(\"This poem throws an error:\", poem_string)\n",
    "        if language == \"en\":\n",
    "            english_poems.append(poem)\n",
    "    return english_poems"
   ]
  },
  {
   "cell_type": "code",
   "execution_count": 11,
   "metadata": {},
   "outputs": [
    {
     "name": "stdout",
     "output_type": "stream",
     "text": [
      "This poem throws an error: \n",
      "This poem throws an error: - - - - - - - - - - - - - - - - - - - - - - - - - - - - - - - - - - - - - - - - - - - - - - - - - - - - - - - - - - - - - - - - - - - - - - - - - - - - - - - - - - - - - - - - - - - - - - - - - - - - - - - - - - - - - - - - - - - - - - - - - - - - - - - - - - - - - - - - - - - - - - - - - - - - - - - - - - - - - - - - - - - - - - - - - - - - - - - - - - - - - - - - - - - - - - - - - - - - - - - - - - - - - - - - - - - - - - - - - - - - - - - - - - - - - - - - - - - - - - - - - - - - - - - - - - - - - - - - - - - - - - - - - - - - - - - - - - - - - - - - - - - -\n",
      "This poem throws an error: ଖୋଲା ଆକାଶ ତଳେ\n",
      " ଖରା, ବର୍ଷା, ଶୀତକୁଆଲିଗଂନ କରି\n",
      " ଝାଳ ବୁହାଇ ଚାଲେ\n",
      " ବଞ୍ଚିବାର କିଛି ସ୍ଵପ୍ନ ନେଇ\n",
      " କାରଣ, କିଛି ଦାନା ପେଟ ପାଇଁ- ଜୀବନର ଲକ୍ଷ୍ୟ ସେଇ\n",
      " ତଥାପି ସେ ବଞ୍ଚେ\n",
      " ହସି ହସି ଗ୍ରହଣ କରେ ପରିସ୍ଥିର ସମସ୍ତ ଦେୟ\n",
      " ନ ଥାଏ କାହା ପ୍ରତି କେବେ ହେୟ\n",
      " ଅବା କିଛି ଲୁଟି ହୋଇ ଯିବାର ଭୟ\n",
      " ଅଥବା ଅନ୍ୟକୁ ଠେଲି ଆଗକୁ ବଢି ଯିବାର ଶ୍ରେୟ\n",
      " କାରଣ, ସେ ତ ଗରିବ- ଏହା ହିଁ ତାର ପରିଚୟ\n",
      " ନିତୀ ଆସେ, ଅର୍ଥ ଆସେ\n",
      " ଗରିବିର ମୂଳ ଉପ୍ତଡନ ସକାଶେ\n",
      " ବିଶ୍ଳେଷଣ ହୁଏ ବାରମ୍ବାର ମନୀଷୀଙ୍କ ପାସେ\n",
      " ଲେଖା ହୁଏ ପୋଥି ସବୁ\"ଗରିବର ଉତ୍ ଥାନ ସକାଶେ\"\n",
      " ହେଇଛି କି କାର୍ଯ୍ୟକ୍ଷମ ମନ ମଧେ ପ୍ରଶ୍ନ ଆସେ\n",
      " କାରଣ, ଗରିବଙ୍କୁ ଲୁଟି ଧନୀଙ୍କ ସଂଖ୍ୟା ବଢେ ଦିନ ମାସେ ବର୍ଷେ\n",
      " ଆଖ୍ୟା ହୋଇପାରେ ଗରିବ ରେଖା ତଳେ\n",
      " କିନ୍ତୁ ଧନୀ ସେ ମନ ଓ ହୃଦୟର ସ୍ଥଳେ\n",
      " ଛଡାଇ ନାହିଁ କେବେ ଅନ୍ୟଠୁ କଳବଳ କୌଶଳେ\n",
      " ଦେଇଛି ନିଜ ଶ୍ରମ, କର୍ମ ପାଇବାକୁ ମୁକ୍ତି ଏଇ ଅଭିଶପ୍ତ ଜୀବନ ପ୍ରାଙ୍ଗଣେ\n",
      " ସେ ଗରିବ ନୁହେଁ ନିଜ ଇଚ୍ଛା ଯୁକ୍ତେ\n",
      " ପରିସ୍ଥିତି, ସମାଜ ଦେଇ ନାହିଁ ବଢିବାକୁ ତା ସାଥେ\n",
      " ବିଚାରିବା ଆସ ଥରେ\n",
      " ଏଥି ପାଇଁ ଦାୟୀ ଆମେ\n",
      " ଅବା ଜୀଇଁବା ପ୍ରଣାଳିରେ ତୃଟି ଆମ ପାଖେ\n",
      " ଅଥବାଆମ ଲୋଭ, ସ୍ଵାର୍ଥ, ଅନ୍ୟକୁ ଲୁଟିବା ସ୍ଵଭାବେ\n",
      "This poem throws an error: 2222222222222222222222222222222222222222222222222 22222222222222\n"
     ]
    }
   ],
   "source": [
    "english_poems = remove_non_english(all_poems)"
   ]
  },
  {
   "cell_type": "code",
   "execution_count": 12,
   "metadata": {},
   "outputs": [
    {
     "data": {
      "text/plain": [
       "20407"
      ]
     },
     "execution_count": 12,
     "metadata": {},
     "output_type": "execute_result"
    }
   ],
   "source": [
    "len(english_poems)"
   ]
  },
  {
   "cell_type": "markdown",
   "metadata": {},
   "source": [
    "# Getting pairs from poems"
   ]
  },
  {
   "cell_type": "code",
   "execution_count": 13,
   "metadata": {},
   "outputs": [],
   "source": [
    "def get_pairs(poems):\n",
    "    pairs = []\n",
    "    for poem in poems:\n",
    "        lines = poem\n",
    "        \n",
    "        # 1) to lower, no endl in the end\n",
    "        lines = [line[:-1].lower() for line in lines]\n",
    "        \n",
    "        # 2) only ascii small letters\n",
    "        allowed = set(ascii_letters + ' ')\n",
    "        lines = [''.join(l for l in line if l in allowed) for line in lines]\n",
    "        \n",
    "        # 3) remove leading whitespaces\n",
    "        lines = [line.strip() for line in lines]\n",
    "        \n",
    "        # 4) take all the pairs next to each other\n",
    "        for i in range(1, len(lines)):\n",
    "            pairs.append([lines[i-1], lines[i]])\n",
    "    return pairs"
   ]
  },
  {
   "cell_type": "code",
   "execution_count": 14,
   "metadata": {},
   "outputs": [],
   "source": [
    "pairs = get_pairs(english_poems)"
   ]
  },
  {
   "cell_type": "code",
   "execution_count": 15,
   "metadata": {},
   "outputs": [
    {
     "data": {
      "text/plain": [
       "[['steady thy laden head across a brook',\n",
       "  'or by a ciderpress with patient look'],\n",
       " ['through the pregnant porphyry', 'dome of lapizlazuli'],\n",
       " ['i hear the dancemusic of all nations',\n",
       "  'the waltz some delicious measure lapsing bathing me in'],\n",
       " ['two', 'comes'],\n",
       " ['with sinfulness of men thereby to learn',\n",
       "  'true patience and to temper joy with fear'],\n",
       " ['are trying to be higher', 'tower'],\n",
       " ['however the gardener had already left quietly leaving the beautiful future for you',\n",
       "  'later the meadow became a garden with beautiful flowers of future all over'],\n",
       " ['ah yes and they benumb us at our call',\n",
       "  'yet still from time to time vague and forlorn']]"
      ]
     },
     "execution_count": 15,
     "metadata": {},
     "output_type": "execute_result"
    }
   ],
   "source": [
    "sample(pairs, 8)"
   ]
  },
  {
   "cell_type": "code",
   "execution_count": 16,
   "metadata": {},
   "outputs": [
    {
     "data": {
      "text/plain": [
       "538735"
      ]
     },
     "execution_count": 16,
     "metadata": {},
     "output_type": "execute_result"
    }
   ],
   "source": [
    "len(pairs)"
   ]
  },
  {
   "cell_type": "markdown",
   "metadata": {},
   "source": [
    "# Remove short verses"
   ]
  },
  {
   "cell_type": "code",
   "execution_count": 17,
   "metadata": {},
   "outputs": [],
   "source": [
    "minimum_digits_per_verse = 8"
   ]
  },
  {
   "cell_type": "code",
   "execution_count": 18,
   "metadata": {},
   "outputs": [],
   "source": [
    "pairs = [pair for pair in pairs if len(pair[0]) >= minimum_digits_per_verse and len(pair[1]) >= minimum_digits_per_verse]"
   ]
  },
  {
   "cell_type": "code",
   "execution_count": 19,
   "metadata": {},
   "outputs": [
    {
     "data": {
      "text/plain": [
       "514956"
      ]
     },
     "execution_count": 19,
     "metadata": {},
     "output_type": "execute_result"
    }
   ],
   "source": [
    "len(pairs)"
   ]
  },
  {
   "cell_type": "markdown",
   "metadata": {},
   "source": [
    "# Remove one-word verses"
   ]
  },
  {
   "cell_type": "code",
   "execution_count": 20,
   "metadata": {},
   "outputs": [],
   "source": [
    "pairs = [pair for pair in pairs if \" \" in pair[0] and \" \" in pair[1]]"
   ]
  },
  {
   "cell_type": "code",
   "execution_count": 21,
   "metadata": {},
   "outputs": [
    {
     "data": {
      "text/plain": [
       "510079"
      ]
     },
     "execution_count": 21,
     "metadata": {},
     "output_type": "execute_result"
    }
   ],
   "source": [
    "len(pairs)"
   ]
  },
  {
   "cell_type": "markdown",
   "metadata": {},
   "source": [
    "# Remove long ones"
   ]
  },
  {
   "cell_type": "code",
   "execution_count": 22,
   "metadata": {},
   "outputs": [],
   "source": [
    "maximum_digits_per_verse = 64"
   ]
  },
  {
   "cell_type": "code",
   "execution_count": 23,
   "metadata": {},
   "outputs": [],
   "source": [
    "pairs = [pair for pair in pairs if len(pair[0]) < maximum_digits_per_verse and len(pair[1]) < maximum_digits_per_verse]"
   ]
  },
  {
   "cell_type": "code",
   "execution_count": 24,
   "metadata": {},
   "outputs": [
    {
     "data": {
      "text/plain": [
       "492888"
      ]
     },
     "execution_count": 24,
     "metadata": {},
     "output_type": "execute_result"
    }
   ],
   "source": [
    "len(pairs)"
   ]
  },
  {
   "cell_type": "markdown",
   "metadata": {},
   "source": [
    "# Remove pairs with abc title"
   ]
  },
  {
   "cell_type": "code",
   "execution_count": 25,
   "metadata": {},
   "outputs": [],
   "source": [
    "pairs = [pair for pair in pairs if \"abc\" not in pair[0]]"
   ]
  },
  {
   "cell_type": "code",
   "execution_count": 26,
   "metadata": {},
   "outputs": [
    {
     "data": {
      "text/plain": [
       "492723"
      ]
     },
     "execution_count": 26,
     "metadata": {},
     "output_type": "execute_result"
    }
   ],
   "source": [
    "len(pairs)"
   ]
  },
  {
   "cell_type": "markdown",
   "metadata": {},
   "source": [
    "# Remove \"copyright\" lines"
   ]
  },
  {
   "cell_type": "code",
   "execution_count": 27,
   "metadata": {},
   "outputs": [],
   "source": [
    "pairs = [pair for pair in pairs if \"copyright\" not in pair[0] and \"copyright\" not in pair[1]]"
   ]
  },
  {
   "cell_type": "code",
   "execution_count": 28,
   "metadata": {},
   "outputs": [
    {
     "data": {
      "text/plain": [
       "491492"
      ]
     },
     "execution_count": 28,
     "metadata": {},
     "output_type": "execute_result"
    }
   ],
   "source": [
    "len(pairs)"
   ]
  },
  {
   "cell_type": "code",
   "execution_count": 29,
   "metadata": {},
   "outputs": [
    {
     "data": {
      "text/plain": [
       "[['for ampler coveting', 'it might be famine all around'],\n",
       " ['people say this world is pitiful', 'but she says it beautiful'],\n",
       " ['dipped in ink they hent from a harried cuttlefish',\n",
       "  'at cape sepias the throes felt theypoor daughters of tethys'],\n",
       " ['then i realised it was passion', 'passion is strong'],\n",
       " ['called their warning', 'they should have been whispering'],\n",
       " ['to bake the glebe and bind the slipry flood',\n",
       "  'this of the wintry season is the prime'],\n",
       " ['again the captain waves his glass', 'sights a beacon turns and cries'],\n",
       " ['our backs press up against', 'a corrugated steel fence'],\n",
       " ['my helen fair prepared his bed', 'we waked ere lang lifes smotherd flame'],\n",
       " ['tonight he answered gravely and was dumb',\n",
       "  'but pointed out the stones that numbered miles']]"
      ]
     },
     "execution_count": 29,
     "metadata": {},
     "output_type": "execute_result"
    }
   ],
   "source": [
    "sample(pairs, 10)"
   ]
  },
  {
   "cell_type": "markdown",
   "metadata": {},
   "source": [
    "# Remove verses with rare words in poems given"
   ]
  },
  {
   "cell_type": "code",
   "execution_count": 30,
   "metadata": {},
   "outputs": [],
   "source": [
    "words = [pair[0].split(\" \") for pair in pairs]\n",
    "words = [item for sublist in words for item in sublist]"
   ]
  },
  {
   "cell_type": "code",
   "execution_count": 31,
   "metadata": {},
   "outputs": [],
   "source": [
    "words_df = pd.DataFrame(words)"
   ]
  },
  {
   "cell_type": "code",
   "execution_count": 32,
   "metadata": {},
   "outputs": [
    {
     "data": {
      "text/plain": [
       "the    169809\n",
       "and    109827\n",
       "of      72361\n",
       "to      71901\n",
       "a       62139\n",
       "dtype: int64"
      ]
     },
     "execution_count": 32,
     "metadata": {},
     "output_type": "execute_result"
    }
   ],
   "source": [
    "words_value_counts = words_df.value_counts()\n",
    "words_value_counts.head()"
   ]
  },
  {
   "cell_type": "code",
   "execution_count": 33,
   "metadata": {},
   "outputs": [],
   "source": [
    "min_occurs = 8\n",
    "common_dataset_words = list(words_value_counts[words_value_counts >= min_occurs].index)"
   ]
  },
  {
   "cell_type": "code",
   "execution_count": 34,
   "metadata": {},
   "outputs": [
    {
     "data": {
      "text/plain": [
       "17322"
      ]
     },
     "execution_count": 34,
     "metadata": {},
     "output_type": "execute_result"
    }
   ],
   "source": [
    "common_dataset_words = [str(word)[2:-3] for word in common_dataset_words]\n",
    "len(common_dataset_words)"
   ]
  },
  {
   "cell_type": "code",
   "execution_count": 35,
   "metadata": {},
   "outputs": [
    {
     "data": {
      "text/plain": [
       "['clerihew',\n",
       " 'dwellers',\n",
       " 'loo',\n",
       " 'shoved',\n",
       " 'claps',\n",
       " 'stalked',\n",
       " 'learnings',\n",
       " 'rancour']"
      ]
     },
     "execution_count": 35,
     "metadata": {},
     "output_type": "execute_result"
    }
   ],
   "source": [
    "sample(common_dataset_words, 8)"
   ]
  },
  {
   "cell_type": "code",
   "execution_count": 36,
   "metadata": {},
   "outputs": [],
   "source": [
    "def filter_pairs_with_words_in(pairs, list_of_acceptable):\n",
    "    pairs_filtered = []\n",
    "    for pair in pairs:\n",
    "        has_rare_words = False\n",
    "        for i in range(2):\n",
    "            sentence = pair[i].split(\" \")\n",
    "            for word in sentence:\n",
    "                if word not in list_of_acceptable:\n",
    "                    has_rare_words = True\n",
    "                    break\n",
    "        if not has_rare_words:\n",
    "            pairs_filtered.append(pair)\n",
    "    return pairs_filtered"
   ]
  },
  {
   "cell_type": "code",
   "execution_count": 37,
   "metadata": {},
   "outputs": [],
   "source": [
    "pairs = filter_pairs_with_words_in(pairs, common_dataset_words)"
   ]
  },
  {
   "cell_type": "code",
   "execution_count": 38,
   "metadata": {},
   "outputs": [
    {
     "data": {
      "text/plain": [
       "309503"
      ]
     },
     "execution_count": 38,
     "metadata": {},
     "output_type": "execute_result"
    }
   ],
   "source": [
    "len(pairs)"
   ]
  },
  {
   "cell_type": "markdown",
   "metadata": {},
   "source": [
    "## Remove verses with words not in TOP 20 000 common"
   ]
  },
  {
   "cell_type": "markdown",
   "metadata": {},
   "source": [
    "https://github.com/first20hours/google-10000-english/"
   ]
  },
  {
   "cell_type": "code",
   "execution_count": 39,
   "metadata": {},
   "outputs": [],
   "source": [
    "google_common_words = list(pd.read_csv(\"google-20000-english.txt\")[\"the\"])"
   ]
  },
  {
   "cell_type": "code",
   "execution_count": 40,
   "metadata": {},
   "outputs": [],
   "source": [
    "pairs = filter_pairs_with_words_in(pairs, google_common_words)"
   ]
  },
  {
   "cell_type": "code",
   "execution_count": 41,
   "metadata": {},
   "outputs": [
    {
     "data": {
      "text/plain": [
       "87264"
      ]
     },
     "execution_count": 41,
     "metadata": {},
     "output_type": "execute_result"
    }
   ],
   "source": [
    "len(pairs)"
   ]
  },
  {
   "cell_type": "code",
   "execution_count": 42,
   "metadata": {},
   "outputs": [
    {
     "data": {
      "text/plain": [
       "[['arab children', 'spring rain'],\n",
       " ['always knew there was a special reason for', 'your presence here'],\n",
       " ['and because i love you i hate you',\n",
       "  'i hate you when you are morning sadness'],\n",
       " ['felt by whom ignored by most', 'we host truth'],\n",
       " ['yet taste every feeling', 'seeing into each'],\n",
       " ['but i must attend', 'an older friend'],\n",
       " ['to waste his whole creation or possess',\n",
       "  'all as our own and drive as we were driven'],\n",
       " ['this question i pose', 'what on this earth is'],\n",
       " ['alas his spirit even there', 'where all around was bright and fair'],\n",
       " ['just friends without that trust', 'you have to work your trust with me'],\n",
       " ['and they are came up with real things', 'drugs like crap'],\n",
       " ['mere dreams mere dreams yet homer had not sung',\n",
       "  'had he not found it certain beyond dreams'],\n",
       " ['with first approach of light we must be risen',\n",
       "  'and at our pleasant labour to reform'],\n",
       " ['life of child is so dear', 'pain may be more but i may bear'],\n",
       " ['encouraging us in love', 'and support'],\n",
       " ['being forced to grow up', 'im not ready'],\n",
       " ['flower and fruit', 'leaf and wood'],\n",
       " ['life is lonely', 'life is pain'],\n",
       " ['but there are more forms to explore', 'give some a try we wont keep score'],\n",
       " ['up to down and down to up',\n",
       "  'so long as there is nothing without an opposite smile'],\n",
       " ['and no hope for liberation', 'love and devotion to mother'],\n",
       " ['and will be fuller', 'come what may'],\n",
       " ['when every being showed truth at that time',\n",
       "  'and when every being believed in life'],\n",
       " ['and will stay there till our end', 'miserable i am without my sweetheart'],\n",
       " ['monks in their brown gowns', 'bent in prayers'],\n",
       " ['and moon let you and your lesser lights', 'watch over a century of nights'],\n",
       " ['do you want my basket', 'catch it'],\n",
       " ['with no special legend or god to refer to',\n",
       "  'i think it would be better to be a jew'],\n",
       " ['celebrating mardi gras th of july', 'until i married and moved away'],\n",
       " ['he ran far', 'now living in a car'],\n",
       " ['but i thought i better let it slide', 'just let you talk about it'],\n",
       " ['right in we went with soul intent', 'on death and dread and doom']]"
      ]
     },
     "execution_count": 42,
     "metadata": {},
     "output_type": "execute_result"
    }
   ],
   "source": [
    "sample(pairs, 32)"
   ]
  },
  {
   "cell_type": "markdown",
   "metadata": {},
   "source": [
    "# Save to .csv"
   ]
  },
  {
   "cell_type": "code",
   "execution_count": 43,
   "metadata": {},
   "outputs": [],
   "source": [
    "pd.DataFrame(pairs, columns=[\"verse 1\", \"verse 2\"]).to_csv(\"verses_pairs.csv\", index=False)"
   ]
  }
 ],
 "metadata": {
  "kernelspec": {
   "display_name": "Python 3 (ipykernel)",
   "language": "python",
   "name": "python3"
  },
  "language_info": {
   "codemirror_mode": {
    "name": "ipython",
    "version": 3
   },
   "file_extension": ".py",
   "mimetype": "text/x-python",
   "name": "python",
   "nbconvert_exporter": "python",
   "pygments_lexer": "ipython3",
   "version": "3.10.1"
  }
 },
 "nbformat": 4,
 "nbformat_minor": 4
}
