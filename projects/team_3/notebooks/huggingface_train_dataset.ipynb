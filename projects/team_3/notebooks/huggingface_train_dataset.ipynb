{
 "cells": [
  {
   "cell_type": "code",
   "execution_count": 10,
   "metadata": {},
   "outputs": [],
   "source": [
    "import os\n",
    "import numpy as np\n",
    "import pandas as pd\n",
    "import json"
   ]
  },
  {
   "cell_type": "code",
   "execution_count": 11,
   "metadata": {},
   "outputs": [],
   "source": [
    "from transformers import AutoTokenizer\n",
    "tokenizer = AutoTokenizer.from_pretrained(\"Davlan/bert-base-multilingual-cased-ner-hrl\")"
   ]
  },
  {
   "cell_type": "code",
   "execution_count": 3,
   "metadata": {},
   "outputs": [],
   "source": [
    "train = [\"Hrabia_Monte_Christo\", \"Maly_Ksiaze\", \"Krzyzacy\", \"Lalka\", \"Robinson_Crusoe\"]\n",
    "valid = [\"Nad_Niemnem\", \"W_pustyni_i_w_puszczy\"]\n",
    "test = [\"Ksiega_dzungli\", \"Przedwiosnie\"]"
   ]
  },
  {
   "cell_type": "code",
   "execution_count": 12,
   "metadata": {},
   "outputs": [
    {
     "name": "stderr",
     "output_type": "stream",
     "text": [
      "Token indices sequence length is longer than the specified maximum sequence length for this model (537 > 512). Running this sequence through the model will result in indexing errors\n"
     ]
    }
   ],
   "source": [
    "df = []\n",
    "for book in train:\n",
    "    with open('data/testing_sets/test_person_polish_gold_standard/' + book  + '.json') as f:\n",
    "        data = json.loads(f.read())\n",
    "    for sent in data:\n",
    "        tokens = []\n",
    "        starts = []\n",
    "        for w in range(tokenizer(sent['content']).word_ids()[-2]):\n",
    "            charspan = tokenizer(sent['content']).word_to_chars(w)\n",
    "            tokens.append(sent['content'][charspan.start:charspan.end])\n",
    "            starts.append(charspan.start)\n",
    "        results = []\n",
    "        ent_id = 0\n",
    "        i = 0\n",
    "        entities = sorted(sent['entities'], key=lambda x: x[0])\n",
    "        while ent_id < len(entities) and i < len(starts):\n",
    "            if starts[i] < entities[ent_id][0]:\n",
    "                results.append(0)\n",
    "                i += 1\n",
    "            elif starts[i] == entities[ent_id][0]:\n",
    "                results.append(1)\n",
    "                i += 1\n",
    "            elif starts[i] < entities[ent_id][1]:\n",
    "                results.append(2)\n",
    "                i += 1    \n",
    "            else:\n",
    "                ent_id += 1\n",
    "        while i < len(starts):\n",
    "            results.append(0)\n",
    "            i += 1\n",
    "        df.append({'tokens': tokens, 'ner_tags': results})\n",
    "pd.DataFrame(df).to_csv('train.csv')"
   ]
  },
  {
   "cell_type": "code",
   "execution_count": 8,
   "metadata": {},
   "outputs": [],
   "source": [
    "df = []\n",
    "for book in valid:\n",
    "    with open('data/testing_sets/test_person_polish_gold_standard/' + book  + '.json') as f:\n",
    "        data = json.loads(f.read())\n",
    "    for sent in data:\n",
    "        tokens = []\n",
    "        starts = []\n",
    "        for w in range(tokenizer(sent['content']).word_ids()[-2]):\n",
    "            charspan = tokenizer(sent['content']).word_to_chars(w)\n",
    "            tokens.append(sent['content'][charspan.start:charspan.end])\n",
    "            starts.append(charspan.start)\n",
    "        results = []\n",
    "        ent_id = 0\n",
    "        i = 0\n",
    "        entities = sorted(sent['entities'], key=lambda x: x[0])\n",
    "        while ent_id < len(entities) and i < len(starts):\n",
    "            if starts[i] < entities[ent_id][0]:\n",
    "                results.append(0)\n",
    "                i += 1\n",
    "            elif starts[i] == entities[ent_id][0]:\n",
    "                results.append(1)\n",
    "                i += 1\n",
    "            elif starts[i] < entities[ent_id][1]:\n",
    "                results.append(2)\n",
    "                i += 1    \n",
    "            else:\n",
    "                ent_id += 1\n",
    "        while i < len(starts):\n",
    "            results.append(0)\n",
    "            i += 1\n",
    "        df.append({'tokens': tokens, 'ner_tags': results})\n",
    "pd.DataFrame(df).to_csv('valid.csv')"
   ]
  },
  {
   "cell_type": "code",
   "execution_count": null,
   "metadata": {},
   "outputs": [],
   "source": []
  }
 ],
 "metadata": {
  "kernelspec": {
   "display_name": "Python 3",
   "language": "python",
   "name": "python3"
  },
  "language_info": {
   "codemirror_mode": {
    "name": "ipython",
    "version": 3
   },
   "file_extension": ".py",
   "mimetype": "text/x-python",
   "name": "python",
   "nbconvert_exporter": "python",
   "pygments_lexer": "ipython3",
   "version": "3.8.5"
  }
 },
 "nbformat": 4,
 "nbformat_minor": 4
}
